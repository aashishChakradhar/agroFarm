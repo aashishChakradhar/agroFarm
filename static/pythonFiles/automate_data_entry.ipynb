{
 "cells": [
  {
   "cell_type": "code",
   "execution_count": null,
   "metadata": {},
   "outputs": [],
   "source": [
    "import pandas as pd\n"
   ]
  },
  {
   "cell_type": "code",
   "execution_count": 31,
   "metadata": {},
   "outputs": [
    {
     "name": "stdout",
     "output_type": "stream",
     "text": [
      "title    object\n",
      "dtype: object\n",
      "title    object\n",
      "dtype: object\n"
     ]
    }
   ],
   "source": [
    "\n",
    "\n",
    "# Read the Excel file into a DataFrame\n",
    "dataframe1 = pd.read_excel('tags.xlsx')\n",
    "print(dataframe1.dtypes)\n",
    "# Convert all columns to string type\n",
    "dataframe1 = dataframe1.astype(str)\n",
    "\n",
    "# Verify the conversion\n",
    "print(dataframe1.dtypes)\n"
   ]
  },
  {
   "cell_type": "code",
   "execution_count": null,
   "metadata": {},
   "outputs": [],
   "source": [
    "dataframe1 = pd.read_excel('randVeg.xlsx')\n",
    "\n",
    "print(dataframe1.iloc[0])"
   ]
  }
 ],
 "metadata": {
  "kernelspec": {
   "display_name": "myenv",
   "language": "python",
   "name": "python3"
  },
  "language_info": {
   "codemirror_mode": {
    "name": "ipython",
    "version": 3
   },
   "file_extension": ".py",
   "mimetype": "text/x-python",
   "name": "python",
   "nbconvert_exporter": "python",
   "pygments_lexer": "ipython3",
   "version": "3.13.0"
  }
 },
 "nbformat": 4,
 "nbformat_minor": 2
}
